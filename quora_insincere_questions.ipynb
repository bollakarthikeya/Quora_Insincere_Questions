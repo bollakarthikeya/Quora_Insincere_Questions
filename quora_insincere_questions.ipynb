{
 "cells": [
  {
   "cell_type": "markdown",
   "metadata": {},
   "source": [
    "---\n",
    "## 1. Utilities"
   ]
  },
  {
   "cell_type": "markdown",
   "metadata": {},
   "source": [
    "There are several Python bindings available for __fastText__. Some of them are <br>\n",
    "1. __fastText__ by __Facebook__ (https://github.com/facebookresearch/fastText/tree/master/python)\n",
    "2. __fasttext__ by __Bayu Aldi Yansyah__ (https://pypi.org/project/fasttext/) "
   ]
  },
  {
   "cell_type": "markdown",
   "metadata": {},
   "source": [
    "We will be using __fastText__ Python binding provided by __Facebook__"
   ]
  },
  {
   "cell_type": "markdown",
   "metadata": {},
   "source": [
    "#### Necessary Imports"
   ]
  },
  {
   "cell_type": "code",
   "execution_count": 5,
   "metadata": {},
   "outputs": [],
   "source": [
    "import csv\n",
    "import fasttext\n",
    "import pandas as pd\n",
    "from prettytable import PrettyTable"
   ]
  },
  {
   "cell_type": "markdown",
   "metadata": {},
   "source": [
    "#### Function to process text\n",
    "Text processing steps include:\n",
    "1. Converting to lower-case\n",
    "2. Removing punctuation\n",
    "3. Replacing numbers (digits) with text (_eg._ '1' to 'one')"
   ]
  },
  {
   "cell_type": "code",
   "execution_count": 2,
   "metadata": {},
   "outputs": [],
   "source": [
    "def processText(rawText):\n",
    "    \"\"\"\n",
    "    input: string, raw text\n",
    "    output: string, processed text\n",
    "    \"\"\" \n",
    "    # convert to lower-case\n",
    "    text = rawText.lower() \n",
    "    \n",
    "    # remove punctuation (except single quote)\n",
    "    # https://www.geeksforgeeks.org/python-maketrans-translate-functions/        \n",
    "    # https://stackoverflow.com/a/31482417/7551231\n",
    "    table = text.maketrans('!#$%&\\()*+/<=>?@[]^_`{|}~', '                         ', '.?;,\"-')\n",
    "    text = text.translate(table)\n",
    "    table = text.maketrans({\"'\":None})\n",
    "    text = text.translate(table)\n",
    "        \n",
    "    # replace numbers with text \n",
    "    table = text.maketrans({'1':' one ',\n",
    "                            '2':' two ',\n",
    "                            '3':' three ',\n",
    "                            '4':' four ',\n",
    "                            '5':' five ',\n",
    "                            '6':' six ',\n",
    "                            '7':' seven ',\n",
    "                            '8':' eight ',\n",
    "                            '9':' nine ',\n",
    "                            '0':' zero '})\n",
    "    text = text.translate(table)    \n",
    "    return text"
   ]
  },
  {
   "cell_type": "markdown",
   "metadata": {},
   "source": [
    "---\n",
    "## 2. Preparing data for fastText"
   ]
  },
  {
   "cell_type": "markdown",
   "metadata": {},
   "source": [
    "#### Training & Validation Data"
   ]
  },
  {
   "cell_type": "code",
   "execution_count": 3,
   "metadata": {},
   "outputs": [],
   "source": [
    "# read training data into a dataframe\n",
    "df = pd.read_csv('train.csv', sep = ',')\n",
    "\n",
    "# extract the column that has questions\n",
    "rawText = df['question_text']\n",
    "\n",
    "# process raw text\n",
    "processed = []\n",
    "for row in df.itertuples():\n",
    "    rawText = row[2]\n",
    "    processedText = processText(rawText)\n",
    "    processed.append(processedText)\n",
    "    \n",
    "# modify training data frame with processed text\n",
    "df['question_text'] = processed\n",
    "\n",
    "# drop 'qid' columns\n",
    "df = df.drop(['qid'], axis = 1)\n",
    "\n",
    "# prefix class labels with '__label__' tag\n",
    "# eg. 0 becomes __label__0\n",
    "# eg. 1 becomes __label__1\n",
    "df['target'] = df['target'].replace(0, '__label__0', regex = True)\n",
    "df['target'] = df['target'].replace(1, '__label__1', regex = True)\n",
    "\n",
    "# shuffle the dataframe\n",
    "df = df.sample(frac = 1, random_state = 9999).reset_index(drop = True)\n",
    "\n",
    "# training and validation sets (80-20 split)\n",
    "splitPoint = int(0.8 * df.shape[0])\n",
    "train, valid = df[0:splitPoint][['target', 'question_text']], df[splitPoint:][['target', 'question_text']]\n",
    "\n",
    "# write to text file in the form \"__label__labelName  content\"\n",
    "train.to_csv('fasttext_train.txt', \n",
    "             sep = ' ', \n",
    "             encoding = 'utf-8', \n",
    "             index = False, \n",
    "             header = False, \n",
    "             quoting = csv.QUOTE_NONE,             \n",
    "             escapechar = ' ',\n",
    "             mode = 'a')\n",
    "\n",
    "valid.to_csv('fasttext_valid.txt', \n",
    "             sep = ' ', \n",
    "             encoding = 'utf-8', \n",
    "             index = False, \n",
    "             header = False,\n",
    "             quoting = csv.QUOTE_NONE,\n",
    "             escapechar = ' ',\n",
    "             mode = 'a')"
   ]
  },
  {
   "cell_type": "markdown",
   "metadata": {},
   "source": [
    "---\n",
    "## 3. Text Classification using fastText"
   ]
  },
  {
   "cell_type": "markdown",
   "metadata": {},
   "source": [
    "### A. Unigram Model (Default Parameters)"
   ]
  },
  {
   "cell_type": "code",
   "execution_count": 4,
   "metadata": {},
   "outputs": [
    {
     "name": "stdout",
     "output_type": "stream",
     "text": [
      "Number of examples:  261225\n",
      "P@1:  0.953006029285099\n",
      "R@1:  0.953006029285099\n"
     ]
    }
   ],
   "source": [
    "# Default parameters are https://github.com/facebookresearch/fastText/blob/master/python/fastText/FastText.py\n",
    "# Parameters: learning rate = 0.1, negative words = 5, n-gram = 1, #epochs = 5  \n",
    "# Note: 'minn' and 'maxn' are defaulty 0\n",
    "model = fasttext.train_supervised(input = 'fasttext_train.txt')\n",
    "\n",
    "# saving the model\n",
    "model.save_model(path = 'unigram.bin')\n",
    "\n",
    "# prediction on validation set\n",
    "# http://ir-ratio.blogspot.com/2012/03/precision-at-1-and-reciprocal-rank.html \n",
    "validationParams = model.test(path = 'fasttext_valid.txt')\n",
    "print('Number of examples: ', validationParams[0]) \n",
    "print('P@1: ', validationParams[1])\n",
    "print('R@1: ', validationParams[2])"
   ]
  },
  {
   "cell_type": "markdown",
   "metadata": {},
   "source": [
    "### B. Unigram Model (minn = 2, maxn = 6)"
   ]
  },
  {
   "cell_type": "code",
   "execution_count": 6,
   "metadata": {},
   "outputs": [
    {
     "name": "stdout",
     "output_type": "stream",
     "text": [
      "Number of examples:  261225\n",
      "P@1:  0.9526653268255335\n",
      "R@1:  0.9526653268255335\n"
     ]
    }
   ],
   "source": [
    "# Note: minn = 2, maxn = 6\n",
    "model = fasttext.train_supervised(input = 'fasttext_train.txt', minn = 2, maxn = 6)\n",
    "\n",
    "# saving the model\n",
    "model.save_model(path = 'unigram26.bin')\n",
    "\n",
    "# prediction on validation set\n",
    "# http://ir-ratio.blogspot.com/2012/03/precision-at-1-and-reciprocal-rank.html \n",
    "validationParams = model.test(path = 'fasttext_valid.txt')\n",
    "print('Number of examples: ', validationParams[0])\n",
    "print('P@1: ', validationParams[1])\n",
    "print('R@1: ', validationParams[2])"
   ]
  },
  {
   "cell_type": "markdown",
   "metadata": {},
   "source": [
    "### C. Bigram Model"
   ]
  },
  {
   "cell_type": "code",
   "execution_count": 7,
   "metadata": {},
   "outputs": [
    {
     "name": "stdout",
     "output_type": "stream",
     "text": [
      "Number of examples:  261225\n",
      "P@1:  0.953905636903053\n",
      "R@1:  0.953905636903053\n"
     ]
    }
   ],
   "source": [
    "# Parameters: learning rate = 0.1, negative words = 5, n-gram = 2, #epochs = 5  \n",
    "model = fasttext.train_supervised(input = 'fasttext_train.txt', wordNgrams = 2)\n",
    "\n",
    "# saving the model\n",
    "model.save_model(path = 'bigram.bin')\n",
    "\n",
    "# prediction on validation set\n",
    "# http://ir-ratio.blogspot.com/2012/03/precision-at-1-and-reciprocal-rank.html \n",
    "validationParams = model.test(path = 'fasttext_valid.txt')\n",
    "print('Number of examples: ', validationParams[0])\n",
    "print('P@1: ', validationParams[1])\n",
    "print('R@1: ', validationParams[2])"
   ]
  },
  {
   "cell_type": "markdown",
   "metadata": {},
   "source": [
    "### D. Trigram Model"
   ]
  },
  {
   "cell_type": "code",
   "execution_count": 8,
   "metadata": {},
   "outputs": [
    {
     "name": "stdout",
     "output_type": "stream",
     "text": [
      "Number of examples:  261225\n",
      "P@1:  0.9546521198200785\n",
      "R@1:  0.9546521198200785\n"
     ]
    }
   ],
   "source": [
    "# Parameters: learning rate = 0.1, negative words = 5, n-gram = 3, #epochs = 5  \n",
    "model = fasttext.train_supervised(input = 'fasttext_train.txt', wordNgrams = 3)\n",
    "\n",
    "# saving the model\n",
    "model.save_model(path = 'trigram.bin')\n",
    "\n",
    "# prediction on validation set\n",
    "# http://ir-ratio.blogspot.com/2012/03/precision-at-1-and-reciprocal-rank.html \n",
    "validationParams = model.test(path = 'fasttext_valid.txt')\n",
    "print('Number of examples: ', validationParams[0])\n",
    "print('P@1: ', validationParams[1])\n",
    "print('R@1: ', validationParams[2])"
   ]
  },
  {
   "cell_type": "markdown",
   "metadata": {},
   "source": [
    "### E. Determining Dimensions of Hidden Layer"
   ]
  },
  {
   "cell_type": "code",
   "execution_count": 11,
   "metadata": {
    "scrolled": true
   },
   "outputs": [
    {
     "name": "stdout",
     "output_type": "stream",
     "text": [
      "+-----------+--------------------+--------------------+\n",
      "| Dimension |        P@1         |        R@1         |\n",
      "+-----------+--------------------+--------------------+\n",
      "|     10    | 0.9530634510479472 | 0.9530634510479472 |\n",
      "|     25    | 0.9530519666953775 | 0.9530519666953775 |\n",
      "|     50    | 0.9530940759881328 | 0.9530940759881328 |\n",
      "|     75    | 0.9530979041056561 | 0.9530979041056561 |\n",
      "|    100    | 0.9531208728107953 | 0.9531208728107953 |\n",
      "|    150    | 0.9531668102210737 | 0.9531668102210737 |\n",
      "|    200    | 0.9531706383385969 | 0.9531706383385969 |\n",
      "|    250    | 0.9531706383385969 | 0.9531706383385969 |\n",
      "|    300    |  0.95328165374677  |  0.95328165374677  |\n",
      "+-----------+--------------------+--------------------+\n"
     ]
    }
   ],
   "source": [
    "# PrettyTable for displaying results\n",
    "results = PrettyTable()\n",
    "results.field_names = ['Dimension', 'P@1', 'R@1']\n",
    "\n",
    "# perform iteration along varying dimensions\n",
    "dimensions = [10, 25, 50, 75, 100, 150, 200, 250, 300]\n",
    "for dim in dimensions:\n",
    "    # Parameters: learning rate = 0.1, negative words = 5, #epochs = 5  \n",
    "    model = fasttext.train_supervised(input = 'fasttext_train.txt', dim = dim)    \n",
    "    # prediction on validation set\n",
    "    validationParams = model.test(path = 'fasttext_valid.txt')\n",
    "    # add entries to results\n",
    "    results.add_row([dim, validationParams[1], validationParams[2]])\n",
    "    \n",
    "# print results\n",
    "print(results)    "
   ]
  },
  {
   "cell_type": "markdown",
   "metadata": {},
   "source": [
    "High Recall is achieved with 300 neurons in hidden layer"
   ]
  },
  {
   "cell_type": "markdown",
   "metadata": {},
   "source": [
    "### F. Determining 'n' in n-gram"
   ]
  },
  {
   "cell_type": "code",
   "execution_count": 13,
   "metadata": {
    "scrolled": true
   },
   "outputs": [
    {
     "name": "stdout",
     "output_type": "stream",
     "text": [
      "+---+--------------------+--------------------+\n",
      "| n |        P@1         |        R@1         |\n",
      "+---+--------------------+--------------------+\n",
      "| 1 | 0.9531208728107953 | 0.9531208728107953 |\n",
      "| 2 | 0.9541353239544454 | 0.9541353239544454 |\n",
      "| 3 | 0.9545717293520911 | 0.9545717293520911 |\n",
      "| 4 | 0.9545411044119054 | 0.9545411044119054 |\n",
      "| 5 | 0.9545564168819983 | 0.9545564168819983 |\n",
      "+---+--------------------+--------------------+\n"
     ]
    }
   ],
   "source": [
    "# PrettyTable for displaying results\n",
    "results = PrettyTable()\n",
    "results.field_names = ['n', 'P@1', 'R@1']\n",
    "\n",
    "# perform iteration along varying 'n' in n-gram\n",
    "nGram = [1, 2, 3, 4, 5]\n",
    "for n in nGram:\n",
    "    # Parameters: learning rate = 0.1, negative words = 5, #epochs = 5  \n",
    "    model = fasttext.train_supervised(input = 'fasttext_train.txt', wordNgrams = n)    \n",
    "    # prediction on validation set\n",
    "    validationParams = model.test(path = 'fasttext_valid.txt')\n",
    "    # add entries to results\n",
    "    results.add_row([n, validationParams[1], validationParams[2]])\n",
    "    \n",
    "# print results\n",
    "print(results)"
   ]
  },
  {
   "cell_type": "markdown",
   "metadata": {},
   "source": [
    "n-gram with n = 3 achieves high recall."
   ]
  },
  {
   "cell_type": "markdown",
   "metadata": {},
   "source": [
    "### G. Determining 'minn' and 'maxnn'"
   ]
  },
  {
   "cell_type": "code",
   "execution_count": 15,
   "metadata": {
    "scrolled": true
   },
   "outputs": [
    {
     "name": "stdout",
     "output_type": "stream",
     "text": [
      "+----------+--------------------+--------------------+--------------------+--------------------+--------------------+\n",
      "|          |      maxn = 2      |      maxn = 3      |      maxn = 4      |      maxn = 5      |      maxn = 6      |\n",
      "+----------+--------------------+--------------------+--------------------+--------------------+--------------------+\n",
      "| minn = 2 | 0.9511111111111111 | 0.9510115800555077 | 0.9521714996650397 | 0.9523399368360609 | 0.9527457172935209 |\n",
      "| minn = 3 |                    | 0.9524088429514787 | 0.9525007177720356 | 0.9528911857594028 | 0.952764857881137  |\n",
      "| minn = 4 |                    |                    | 0.9531629821035505 | 0.9530672791654704 | 0.9530098574026222 |\n",
      "| minn = 5 |                    |                    |                    | 0.953354387979711  | 0.9531361852808882 |\n",
      "| minn = 6 |                    |                    |                    |                    | 0.9532242319839219 |\n",
      "+----------+--------------------+--------------------+--------------------+--------------------+--------------------+\n",
      "+----------+--------------------+--------------------+--------------------+--------------------+--------------------+\n",
      "|          |      maxn = 2      |      maxn = 3      |      maxn = 4      |      maxn = 5      |      maxn = 6      |\n",
      "+----------+--------------------+--------------------+--------------------+--------------------+--------------------+\n",
      "| minn = 2 | 0.9511111111111111 | 0.9510115800555077 | 0.9521714996650397 | 0.9523399368360609 | 0.9527457172935209 |\n",
      "| minn = 3 |                    | 0.9524088429514787 | 0.9525007177720356 | 0.9528911857594028 | 0.952764857881137  |\n",
      "| minn = 4 |                    |                    | 0.9531629821035505 | 0.9530672791654704 | 0.9530098574026222 |\n",
      "| minn = 5 |                    |                    |                    | 0.953354387979711  | 0.9531361852808882 |\n",
      "| minn = 6 |                    |                    |                    |                    | 0.9532242319839219 |\n",
      "+----------+--------------------+--------------------+--------------------+--------------------+--------------------+\n"
     ]
    }
   ],
   "source": [
    "# PrettyTable for displaying results\n",
    "precision, recall = PrettyTable(), PrettyTable()\n",
    "precision.field_names = ['', 'maxn = 2', 'maxn = 3', 'maxn = 4', 'maxn = 5', 'maxn = 6']\n",
    "recall.field_names = ['', 'maxn = 2', 'maxn = 3', 'maxn = 4', 'maxn = 5', 'maxn = 6']\n",
    "\n",
    "# perform iteration along 'minn' and 'maxn'\n",
    "for minn in range(2,7):\n",
    "    precisionTemp, recallTemp = ['minn = ' + str(minn)], ['minn = ' + str(minn)]\n",
    "    for maxn in range(2,7):\n",
    "        if maxn < minn:\n",
    "            precisionTemp.append('')\n",
    "            recallTemp.append('')\n",
    "        else:\n",
    "            # Parameters: learning rate = 0.1, negative words = 5, #epochs = 5  \n",
    "            model = fasttext.train_supervised(input = 'fasttext_train.txt', \n",
    "                                          minn = minn,\n",
    "                                          maxn = maxn)    \n",
    "            # prediction on validation set\n",
    "            validationParams = model.test(path = 'fasttext_valid.txt')    \n",
    "            # add entries to results\n",
    "            precisionTemp.append(validationParams[1])\n",
    "            recallTemp.append(validationParams[2])\n",
    "    precision.add_row(precisionTemp)\n",
    "    recall.add_row(recallTemp)    \n",
    "    \n",
    "# print results\n",
    "print(precision)\n",
    "print(recall)"
   ]
  },
  {
   "cell_type": "markdown",
   "metadata": {},
   "source": [
    "High Recall is at minn = 5 and maxn = 5"
   ]
  },
  {
   "cell_type": "markdown",
   "metadata": {},
   "source": [
    "### H. Checking Combination"
   ]
  },
  {
   "cell_type": "code",
   "execution_count": 16,
   "metadata": {},
   "outputs": [
    {
     "name": "stdout",
     "output_type": "stream",
     "text": [
      "Number of examples:  261225\n",
      "P@1:  0.955582352378218\n",
      "R@1:  0.955582352378218\n"
     ]
    }
   ],
   "source": [
    "# defining our model\n",
    "model = fasttext.train_supervised(input = 'fasttext_train.txt', \n",
    "                                  wordNgrams = 3,\n",
    "                                  minn = 5,\n",
    "                                  maxn = 5,\n",
    "                                  dim = 300)\n",
    "\n",
    "# Parameters: learning rate = 0.1, negative words = 5, minn = 5, maxn = 5, n-gram = 3, #epochs = 5, dim = 300  \n",
    "model = fasttext.train_supervised(input = 'fasttext_train.txt', \n",
    "                                  wordNgrams = 3,\n",
    "                                  minn = 5,\n",
    "                                  maxn = 5,\n",
    "                                  dim = 300)\n",
    "\n",
    "# saving the model\n",
    "model.save_model(path = 'finalModel.bin')\n",
    "\n",
    "# prediction on validation set\n",
    "# http://ir-ratio.blogspot.com/2012/03/precision-at-1-and-reciprocal-rank.html \n",
    "validationParams = model.test(path = 'fasttext_valid.txt')\n",
    "print('Number of examples: ', validationParams[0])\n",
    "print('P@1: ', validationParams[1])\n",
    "print('R@1: ', validationParams[2])"
   ]
  },
  {
   "cell_type": "markdown",
   "metadata": {},
   "source": [
    "---\n",
    "## 4. Processing Test Data "
   ]
  },
  {
   "cell_type": "code",
   "execution_count": 17,
   "metadata": {},
   "outputs": [],
   "source": [
    "# read training data into a dataframe\n",
    "df = pd.read_csv('test.csv', sep = ',')\n",
    "\n",
    "# extract the column that has questions\n",
    "rawText = df['question_text']\n",
    "\n",
    "# process raw text \n",
    "processed = []\n",
    "for row in df.itertuples():\n",
    "    rawText = row[2]\n",
    "    processedText = processText(rawText)\n",
    "    processed.append(processedText)\n",
    "    \n",
    "# modify training data frame with processed text\n",
    "df['question_text'] = processed"
   ]
  },
  {
   "cell_type": "markdown",
   "metadata": {},
   "source": [
    "## 5. Test Data Prediction"
   ]
  },
  {
   "cell_type": "code",
   "execution_count": 18,
   "metadata": {},
   "outputs": [],
   "source": [
    "# predict\n",
    "questions_list = df['question_text'].tolist() \n",
    "predictions = []\n",
    "for question in questions_list:\n",
    "    predictions.append(model.predict(question.strip())[0][0])\n",
    "    \n",
    "# make 'qid' and 'prediction' into a dataframe and write it as CSV\n",
    "df['prediction'] = predictions\n",
    "\n",
    "# replace '__label__0' with 0 and '__label__1' with 1\n",
    "df['prediction'] = df['prediction'].replace('__label__0', 0, regex = True)\n",
    "df['prediction'] = df['prediction'].replace('__label__1', 1, regex = True)\n",
    "\n",
    "# write to CSV\n",
    "df.to_csv('sample_submission.csv', \n",
    "          sep = ',',\n",
    "          columns = ['qid', 'prediction'],\n",
    "          index = False)    "
   ]
  },
  {
   "cell_type": "code",
   "execution_count": null,
   "metadata": {},
   "outputs": [],
   "source": []
  }
 ],
 "metadata": {
  "kernelspec": {
   "display_name": "Python 3",
   "language": "python",
   "name": "python3"
  },
  "language_info": {
   "codemirror_mode": {
    "name": "ipython",
    "version": 3
   },
   "file_extension": ".py",
   "mimetype": "text/x-python",
   "name": "python",
   "nbconvert_exporter": "python",
   "pygments_lexer": "ipython3",
   "version": "3.7.3"
  }
 },
 "nbformat": 4,
 "nbformat_minor": 2
}
